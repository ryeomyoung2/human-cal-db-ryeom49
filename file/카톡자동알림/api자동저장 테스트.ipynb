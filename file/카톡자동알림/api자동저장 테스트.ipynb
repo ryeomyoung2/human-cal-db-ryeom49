{
 "cells": [
  {
   "cell_type": "code",
   "execution_count": 1,
   "id": "7053681d",
   "metadata": {},
   "outputs": [],
   "source": [
    "from selenium import webdriver\n",
    "from selenium.webdriver.common.by import By\n",
    "from datetime import date\n",
    "import time\n",
    "import psycopg2\n",
    "import json\n",
    "import requests"
   ]
  },
  {
   "cell_type": "code",
   "execution_count": 2,
   "id": "579873f2",
   "metadata": {},
   "outputs": [],
   "source": [
    "def dbconn():\n",
    "    conn = psycopg2.connect(host=\"ec2-23-21-207-93.compute-1.amazonaws.com\", \n",
    "                            dbname=\"d3oubpekvnbupv\", \n",
    "                            user=\"grxhirqndvyqvv\", \n",
    "                            password=\"6f1afaafe16d245c70666bdb8c831aa876e62b380a1544f5dc832c51f27cece6\", \n",
    "                            port=\"5432\")\n",
    "    return conn"
   ]
  },
  {
   "cell_type": "code",
   "execution_count": null,
   "id": "5f29c10e",
   "metadata": {},
   "outputs": [],
   "source": []
  },
  {
   "cell_type": "code",
   "execution_count": 3,
   "id": "a270fd3f",
   "metadata": {},
   "outputs": [],
   "source": [
    "# DB - 오늘날짜의 지하철 이슈 찾아보기\n",
    "def todaysubaccDB():\n",
    "    today = date.today().isoformat() + '%'\n",
    "    \n",
    "    cur = dbconn().cursor()\n",
    "    cur.execute(f\"SELECT * FROM subaccdata WHERE acctime LIKE '{today}' order by acctime DESC\")\n",
    "    result_all = cur.fetchall()\n",
    "    sbstr=\"\"\n",
    "    \n",
    "    for i in result_all:\n",
    "        for j in i:\n",
    "            sbstr =  sbstr + j + \"\\n\"\n",
    "    \n",
    "    sbstr = sbstr[:-1]\n",
    "    \n",
    "    return sbstr"
   ]
  },
  {
   "cell_type": "code",
   "execution_count": null,
   "id": "c9a265a3",
   "metadata": {},
   "outputs": [],
   "source": []
  },
  {
   "cell_type": "code",
   "execution_count": 4,
   "id": "44ca2ab5",
   "metadata": {},
   "outputs": [],
   "source": [
    "# SELENIUM - 오늘 날짜의 지하철 이슈 찾아보기\n",
    "def todaysubaccCROW():\n",
    "    chrome_options = webdriver.ChromeOptions()\n",
    "    chrome_options.add_argument(\"headless\")\n",
    "    driver = webdriver.Chrome('/chromedriver.exe', options=chrome_options)\n",
    "    time.sleep(5)\n",
    "    driver.get(\"https://safecity.seoul.go.kr/acdnt/sbwyIndex.do\")\n",
    "    time.sleep(0.5)\n",
    "    parentElement = driver.find_elements(By.XPATH, '//*[@id=\"dv_as_timeline\"]/li')\n",
    "    subli=[]\n",
    "    for i in parentElement:\n",
    "        i.click()\n",
    "        time.sleep(0.05)\n",
    "        a = i.text\n",
    "        subli.append(a)\n",
    "        i.click()\n",
    "    driver.quit()\n",
    "    return subli"
   ]
  },
  {
   "cell_type": "code",
   "execution_count": 7,
   "id": "459822a5",
   "metadata": {
    "scrolled": true
   },
   "outputs": [
    {
     "name": "stderr",
     "output_type": "stream",
     "text": [
      "C:\\Users\\h\\AppData\\Local\\Temp\\ipykernel_23932\\2624937414.py:5: DeprecationWarning: executable_path has been deprecated, please pass in a Service object\n",
      "  driver = webdriver.Chrome('/chromedriver.exe', options=chrome_options)\n"
     ]
    }
   ],
   "source": [
    "a = todaysubaccCROW()"
   ]
  },
  {
   "cell_type": "code",
   "execution_count": 8,
   "id": "b592d7fd",
   "metadata": {
    "scrolled": true
   },
   "outputs": [
    {
     "data": {
      "text/plain": [
       "['지하철사고\\n2022-11-25 06:05\\n서울교통공사에서 알려드립니다. 금일 08시부터 4호선에서「전국장애인차별철폐연대」의 ‘장애인 권리예산 확보’를 위한 출근길 지하철 타기 선전전이 예정되어 있습니다. 이로 인해 4호선 해당구간 열차운행이 상당시간 지연될 수 있으니 이점 참고하여 열차를 이용해 주시기 바랍니다.']"
      ]
     },
     "execution_count": 8,
     "metadata": {},
     "output_type": "execute_result"
    }
   ],
   "source": [
    "a"
   ]
  },
  {
   "cell_type": "code",
   "execution_count": null,
   "id": "eff1303d",
   "metadata": {},
   "outputs": [],
   "source": []
  },
  {
   "cell_type": "code",
   "execution_count": 5,
   "id": "0a4cc580",
   "metadata": {},
   "outputs": [],
   "source": [
    "def kakaoapi(message):\n",
    "    with open(\"kakao_code.json\",\"r\") as fp:\n",
    "        ts = json.load(fp)\n",
    "        \n",
    "    url=\"https://kapi.kakao.com/v2/api/talk/memo/default/send\"\n",
    "    headers={\"Authorization\" : \"Bearer \" + ts[\"access_token\"]}\n",
    "    data={\n",
    "        \"template_object\": json.dumps({\n",
    "            \"object_type\":\"text\",\n",
    "            \"text\":message,\n",
    "            \"link\":{\n",
    "                \"web_url\":\"www.naver.com\"\n",
    "            }\n",
    "        })\n",
    "    }\n",
    "    response = requests.post(url, headers=headers, data=data)\n",
    "    if response.status_code==200:\n",
    "        print(\"카톡알림 완료\")\n",
    "    else:\n",
    "        print(\"카톡알림 fail :\", response.status_code)"
   ]
  },
  {
   "cell_type": "code",
   "execution_count": 14,
   "id": "10e4fd40",
   "metadata": {},
   "outputs": [],
   "source": [
    "with open(\"kakao_code.json\",\"r\") as fp:\n",
    "    ts = json.load(fp)\n",
    "        \n",
    "url=\"https://kapi.kakao.com/v2/api/talk/memo/default/send\"\n",
    "headers={\"Authorization\" : \"Bearer \" + ts[\"access_token\"]}\n",
    "data={\n",
    "    \"template_object\": json.dumps({\n",
    "        \"object_type\":\"text\",\n",
    "        \"text\":\"왜안댐~~\",\n",
    "        \"link\":{\n",
    "            \"web_url\":\"www.naver.com\"\n",
    "        }\n",
    "    })\n",
    "}\n",
    "response = requests.post(url, headers=headers, data=data)"
   ]
  },
  {
   "cell_type": "code",
   "execution_count": null,
   "id": "93bad0da",
   "metadata": {},
   "outputs": [],
   "source": []
  },
  {
   "cell_type": "code",
   "execution_count": 6,
   "id": "6f5cf3ce",
   "metadata": {},
   "outputs": [],
   "source": [
    "# main코드\n",
    "def main():\n",
    "    dbselect = todaysubaccDB()\n",
    "    crwaling = todaysubaccCROW()\n",
    "    \n",
    "    # 크롤링한 데이터 나누기 - DB에서 가져온 것과 비교하기 위해\n",
    "    dbstr = \"\"\n",
    "    for i in crwaling:\n",
    "        i = i[6:]\n",
    "        dbstr = dbstr + i + '\\n'\n",
    "    dbstr = dbstr[:-1]\n",
    "    \n",
    "    # db데이터와 크롤링한 데이터가 다를때\n",
    "    if (dbstr!=dbselect):\n",
    "        \n",
    "        # 1. 속보가 없는건지 확인한다\n",
    "        if (len(crwaling[0]) == 12):\n",
    "            print(\"속보없음\")\n",
    "        \n",
    "        # 2. 속보가 있으면 db에 넣어주고 카톡 알림\n",
    "        else:\n",
    "            conn = dbconn()\n",
    "            cur = conn.cursor()\n",
    "            \n",
    "            for i in crwaling:\n",
    "                # 크롤링한 데이터 정규화\n",
    "                subdb = i.split('\\n')\n",
    "                subdb.pop(0)\n",
    "                cur.execute(\"INSERT into subaccdata(acctime, content) VALUES (%s, %s) ON CONFLICT (acctime, content) DO NOTHING\", subdb)\n",
    "            conn.commit()\n",
    "            \n",
    "            # 카카오 메시지 보내기 호출\n",
    "            kakaoapi(crwaling[0])"
   ]
  },
  {
   "cell_type": "code",
   "execution_count": null,
   "id": "8056edc1",
   "metadata": {},
   "outputs": [],
   "source": []
  },
  {
   "cell_type": "code",
   "execution_count": 44,
   "id": "5f3efce0",
   "metadata": {},
   "outputs": [
    {
     "name": "stderr",
     "output_type": "stream",
     "text": [
      "C:\\Users\\h\\AppData\\Local\\Temp\\ipykernel_23224\\2624937414.py:5: DeprecationWarning: executable_path has been deprecated, please pass in a Service object\n",
      "  driver = webdriver.Chrome('/chromedriver.exe', options=chrome_options)\n"
     ]
    }
   ],
   "source": [
    "main()"
   ]
  },
  {
   "cell_type": "code",
   "execution_count": 17,
   "id": "d9750b10",
   "metadata": {},
   "outputs": [],
   "source": [
    "conn = dbconn()\n",
    "cur = conn.cursor()\n",
    "conn.commit()"
   ]
  },
  {
   "cell_type": "code",
   "execution_count": 24,
   "id": "0424e522",
   "metadata": {},
   "outputs": [],
   "source": [
    "a = todaysubaccDB()"
   ]
  },
  {
   "cell_type": "code",
   "execution_count": 25,
   "id": "f042543d",
   "metadata": {},
   "outputs": [
    {
     "data": {
      "text/plain": [
       "''"
      ]
     },
     "execution_count": 25,
     "metadata": {},
     "output_type": "execute_result"
    }
   ],
   "source": [
    "a"
   ]
  },
  {
   "cell_type": "code",
   "execution_count": null,
   "id": "85ddf492",
   "metadata": {},
   "outputs": [],
   "source": [
    "2022-11-25 06:05"
   ]
  },
  {
   "cell_type": "code",
   "execution_count": 23,
   "id": "ed44d826",
   "metadata": {},
   "outputs": [],
   "source": [
    "cur.execute(f\"delete from subaccdata where acctime = '2022-11-25 06:05'\")\n",
    "conn.commit()"
   ]
  }
 ],
 "metadata": {
  "kernelspec": {
   "display_name": "Python 3 (ipykernel)",
   "language": "python",
   "name": "python3"
  },
  "language_info": {
   "codemirror_mode": {
    "name": "ipython",
    "version": 3
   },
   "file_extension": ".py",
   "mimetype": "text/x-python",
   "name": "python",
   "nbconvert_exporter": "python",
   "pygments_lexer": "ipython3",
   "version": "3.10.7"
  }
 },
 "nbformat": 4,
 "nbformat_minor": 5
}
