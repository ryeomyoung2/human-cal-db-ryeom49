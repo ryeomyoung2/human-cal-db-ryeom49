{
 "cells": [
  {
   "cell_type": "code",
   "execution_count": 1,
   "id": "d28d72d9",
   "metadata": {},
   "outputs": [],
   "source": [
    "import psycopg2\n",
    "import os\n",
    "import sys\n",
    "import requests\n",
    "import datetime\n",
    "import time\n",
    "import re"
   ]
  },
  {
   "cell_type": "code",
   "execution_count": 2,
   "id": "ae1246d9",
   "metadata": {},
   "outputs": [],
   "source": [
    "# db연결\n",
    "conn = psycopg2.connect(host=\"ec2-18-207-37-30.compute-1.amazonaws.com\", \n",
    "                        dbname=\"da3iiu1dg1eubl\", \n",
    "                        user=\"arbmerojlhxbrf\", \n",
    "                        password=\"6944d2306202fed548eb3547ca2aaf2cfc420aa21880236efff1ba4f395f35f8\", \n",
    "                        port=\"5432\")\n",
    "\n",
    "# 데이터 조작 객체 생성\n",
    "cur = conn.cursor()"
   ]
  },
  {
   "cell_type": "code",
   "execution_count": 3,
   "id": "0ca0ff8a",
   "metadata": {},
   "outputs": [],
   "source": [
    "# html 디코딩 함수\n",
    "def clean_html(x):\n",
    "  x = re.sub(\"\\&\\w*\\;\",\"\",x)\n",
    "  x = re.sub(\"<.*?>\",\"\",x)\n",
    "  return x"
   ]
  },
  {
   "cell_type": "code",
   "execution_count": 4,
   "id": "2dd0b695",
   "metadata": {
    "scrolled": true
   },
   "outputs": [],
   "source": [
    "#데이터베이스 새로 만들기 (복합 키 세팅)\n",
    "# 테이블명 : nesdata\n",
    "# 컬럼명 : nesdate(뉴스작성일), newsname(뉴스타이틀), neslink(뉴스링크)\n",
    "# create table\n",
    "def db_create():\n",
    "    cur.execute(\"CREATE TABLE IF NOT EXISTS newsdata(newsdate VARCHAR(30) NOT NULL, newsname VARCHAR(100) NOT NULL, newslink VARCHAR(200));\")\n",
    "    conn.commit()\n",
    "\n",
    "db_create()"
   ]
  },
  {
   "cell_type": "code",
   "execution_count": 9,
   "id": "e1c1d9c1",
   "metadata": {},
   "outputs": [],
   "source": [
    "# db에 넣기 통합본 - 자동용\n",
    "def insertnews():\n",
    "\n",
    "    # db연결\n",
    "    conn = psycopg2.connect(host=\"ec2-18-207-37-30.compute-1.amazonaws.com\", \n",
    "                            dbname=\"da3iiu1dg1eubl\", \n",
    "                            user=\"arbmerojlhxbrf\", \n",
    "                            password=\"6944d2306202fed548eb3547ca2aaf2cfc420aa21880236efff1ba4f395f35f8\", \n",
    "                            port=\"5432\")\n",
    "\n",
    "    # 데이터 조작 객체 생성\n",
    "    cur = conn.cursor()\n",
    "\n",
    "    # 네이버 검색api 키값\n",
    "    client_id = 'CmmN2OJp47c60h9IWTRs'\n",
    "    client_secret = 'mALduPDQEB'\n",
    "\n",
    "    #검색설정\n",
    "    search_word = '4호선'\n",
    "    encode_type = 'json'\n",
    "    max_display = 30\n",
    "    sort = 'date'\n",
    "    start = 1\n",
    "\n",
    "    url = f\"https://openapi.naver.com/v1/search/news.{encode_type}?query={search_word}&display={str(int(max_display))}&start={str(int(start))}&sort={sort}\"\n",
    "\n",
    "    #헤더에 아이디와 키 정보 넣기\n",
    "    headers = {'X-Naver-Client-Id' : client_id,\n",
    "            'X-Naver-Client-Secret':client_secret\n",
    "            }\n",
    "\n",
    "    #HTTP요청 보내기\n",
    "    r = requests.get(url, headers=headers)\n",
    "    #요청 결과 보기 200 이면 정상적으로 요청 완료\n",
    "\n",
    "    # json형식으로 받기\n",
    "    result = r.json()\n",
    "\n",
    "    # key : items\n",
    "    result_items=result['items']\n",
    "\n",
    "    # db에 저장하기\n",
    "\n",
    "    for i in result_items:\n",
    "        \n",
    "        # 날짜 형식 변환\n",
    "        pDate = datetime.datetime.strptime(i['pubDate'][5:-6], '%d %b %Y %H:%M:%S')\n",
    "        pDate = pDate.strftime('%Y-%m-%d %H:%M:%S')\n",
    "        \n",
    "        # 뉴스제목 디코딩\n",
    "        title = clean_html(i['title'])\n",
    "        \n",
    "        link = i['link']\n",
    "        \n",
    "        insertdata = (pDate, title, link)\n",
    "        \n",
    "        # ON CONFLICT : 데이터가 중복되면 INSERT하지않음\n",
    "        cur.execute(\"INSERT into newsdata(newsdate, newsname, newslink) VALUES (%s, %s, %s) ON CONFLICT (newsname, newslink) DO NOTHING\", insertdata)\n",
    "\n",
    "    # db commit\n",
    "    conn.commit()   "
   ]
  },
  {
   "cell_type": "code",
   "execution_count": 6,
   "id": "3ae5a824",
   "metadata": {},
   "outputs": [],
   "source": [
    "insertnews()"
   ]
  },
  {
   "cell_type": "code",
   "execution_count": null,
   "id": "d0dc805e",
   "metadata": {},
   "outputs": [],
   "source": []
  },
  {
   "cell_type": "code",
   "execution_count": 7,
   "id": "dc2ad68b",
   "metadata": {
    "scrolled": true
   },
   "outputs": [
    {
     "name": "stdout",
     "output_type": "stream",
     "text": [
      "2022-11-22 11:44:00\n",
      "“서울에 휴양림이 생긴다고?”…노원구, 수락산 자연 휴양림 23일 착공\n",
      "https://n.news.naver.com/mnews/article/028/0002615914?sid=102\n",
      "\n",
      "2022-11-22 11:24:00\n",
      "전장연 이태원 참사 언급 vs 누리꾼 물타기 말라 시끌\n",
      "https://n.news.naver.com/mnews/article/008/0004820755?sid=102\n",
      "\n",
      "2022-11-22 11:09:00\n",
      "작년 서울 지하철 사고·운행장애 16건... 5년 만 최다 기록\n",
      "https://n.news.naver.com/mnews/article/366/0000856732?sid=102\n",
      "\n",
      "2022-11-22 10:42:00\n",
      "노원구, 서울시 최초 수락산 자연 휴양림 조성…23일 착공\n",
      "http://www.shinailbo.co.kr/news/articleView.html?idxno=1626357\n",
      "\n",
      "2022-11-22 10:28:00\n",
      "지하철 타서 늦어요 핑계인 줄 알았는데 알고보니…지하철 사고건수 작년 ...\n",
      "https://n.news.naver.com/mnews/article/057/0001704431?sid=102\n",
      "\n",
      "2022-11-22 10:02:00\n",
      "진접역 오피스텔 투웨니퍼스트 르메트로 공급 예정\n",
      "http://www.woodkorea.co.kr/news/articleView.html?idxno=71151\n",
      "\n",
      "2022-11-22 09:44:00\n",
      "작년 서울 지하철 사고·운행장애 16건...5년만에 최다 기록\n",
      "https://n.news.naver.com/mnews/article/022/0003756747?sid=102\n",
      "\n",
      "2022-11-22 09:44:00\n",
      "전장연 이태원 참사 한 달도 안 됐는데…경찰 충돌 비판\n",
      "https://n.news.naver.com/mnews/article/015/0004777716?sid=102\n",
      "\n",
      "2022-11-22 09:36:00\n",
      "[시선공감] 김창식 도의원 소방서 안전체험관 설치와 운영 활성화 될 것 관...\n",
      "http://www.ifm.kr/news/348438\n",
      "\n",
      "2022-11-22 09:22:00\n",
      "2021년 서울 지하철 사고-운행장애 16건...5년만에 최다\n",
      "https://news.bbsi.co.kr/news/articleView.html?idxno=3089303\n"
     ]
    }
   ],
   "source": [
    "# select newdata\n",
    "cur.execute(f\"SELECT * FROM newsdata order by newsdate DESC limit 10\")\n",
    "result_all = cur.fetchall()\n",
    "\n",
    "newslist=\"\"\n",
    "for i in result_all:\n",
    "    for j in i:\n",
    "        newslist = newslist + j + \"\\n\"\n",
    "    newslist = newslist + \"\\n\"\n",
    "\n",
    "print(newslist[:-2])"
   ]
  },
  {
   "cell_type": "code",
   "execution_count": 8,
   "id": "95b2579a",
   "metadata": {},
   "outputs": [],
   "source": [
    "conn.commit()"
   ]
  }
 ],
 "metadata": {
  "kernelspec": {
   "display_name": "Python 3.10.7 ('venv': venv)",
   "language": "python",
   "name": "python3"
  },
  "language_info": {
   "codemirror_mode": {
    "name": "ipython",
    "version": 3
   },
   "file_extension": ".py",
   "mimetype": "text/x-python",
   "name": "python",
   "nbconvert_exporter": "python",
   "pygments_lexer": "ipython3",
   "version": "3.10.7"
  },
  "vscode": {
   "interpreter": {
    "hash": "cc7ef1389572fa8dc719729b79621d4df89e224c4f46f84ae80296ed842a0864"
   }
  }
 },
 "nbformat": 4,
 "nbformat_minor": 5
}
